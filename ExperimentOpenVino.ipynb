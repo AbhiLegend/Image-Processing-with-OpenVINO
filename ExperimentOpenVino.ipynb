{
  "nbformat": 4,
  "nbformat_minor": 0,
  "metadata": {
    "colab": {
      "private_outputs": true,
      "provenance": []
    },
    "kernelspec": {
      "name": "python3",
      "display_name": "Python 3"
    },
    "language_info": {
      "name": "python"
    }
  },
  "cells": [
    {
      "cell_type": "code",
      "execution_count": null,
      "metadata": {
        "id": "GCa8grunIiJT"
      },
      "outputs": [],
      "source": [
        "# Install openvino package\n",
        "%pip install -q \"openvino>=2023.1.0\""
      ]
    },
    {
      "cell_type": "code",
      "source": [],
      "metadata": {
        "id": "D19cMb5yI-JU"
      },
      "execution_count": null,
      "outputs": []
    },
    {
      "cell_type": "code",
      "execution_count": null,
      "metadata": {
        "id": "485ef549"
      },
      "outputs": [],
      "source": [
        "import cv2\n",
        "import matplotlib.pyplot as plt\n",
        "import numpy as np\n",
        "import openvino as ov\n",
        "\n",
        "# Fetch `notebook_utils` module\n",
        "import urllib.request\n",
        "urllib.request.urlretrieve(\n",
        "    url='https://raw.githubusercontent.com/openvinotoolkit/openvino_notebooks/main/notebooks/utils/notebook_utils.py',\n",
        "    filename='notebook_utils.py'\n",
        ")\n",
        "\n",
        "from notebook_utils import segmentation_map_to_image, download_file"
      ]
    },
    {
      "cell_type": "code",
      "source": [
        "from pathlib import Path\n",
        "\n",
        "base_model_dir = Path(\"./model\").expanduser()\n",
        "\n",
        "model_name = \"semantic-segmentation-adas-0001\"\n",
        "model_xml_name = f'{model_name}.xml'\n",
        "model_bin_name = f'{model_name}.bin'\n",
        "\n",
        "model_xml_path = base_model_dir / model_xml_name\n",
        "\n",
        "if not model_xml_path.exists():\n",
        "    model_xml_url = \"https://storage.openvinotoolkit.org/repositories/open_model_zoo/2023.0/models_bin/1/road-segmentation-adas-0001/FP16/road-segmentation-adas-0001.xml\"\n",
        "    model_bin_url = \"https://storage.openvinotoolkit.org/repositories/open_model_zoo/2023.0/models_bin/1/road-segmentation-adas-0001/FP16/road-segmentation-adas-0001.bin\"\n",
        "\n",
        "    download_file(model_xml_url, model_xml_name, base_model_dir)\n",
        "    download_file(model_bin_url, model_bin_name, base_model_dir)\n",
        "else:\n",
        "    print(f'{model_name} already downloaded to {base_model_dir}')"
      ],
      "metadata": {
        "id": "quJYw3eXJHCV"
      },
      "execution_count": null,
      "outputs": []
    },
    {
      "cell_type": "code",
      "source": [
        "import ipywidgets as widgets\n",
        "\n",
        "core = ov.Core()\n",
        "device = widgets.Dropdown(\n",
        "    options=core.available_devices + [\"AUTO\"],\n",
        "    value='AUTO',\n",
        "    description='Device:',\n",
        "    disabled=False,\n",
        ")\n",
        "\n",
        "device"
      ],
      "metadata": {
        "id": "_WMJMMmnJ4qu"
      },
      "execution_count": null,
      "outputs": []
    },
    {
      "cell_type": "code",
      "source": [
        "core = ov.Core()\n",
        "\n",
        "model = core.read_model(model=model_xml_path)\n",
        "compiled_model = core.compile_model(model=model, device_name=device.value)\n",
        "\n",
        "input_layer_ir = compiled_model.input(0)\n",
        "output_layer_ir = compiled_model.output(0)"
      ],
      "metadata": {
        "id": "QucffOMnKD2r"
      },
      "execution_count": null,
      "outputs": []
    },
    {
      "cell_type": "code",
      "source": [
        "import numpy as np\n",
        "import cv2\n",
        "import matplotlib.pyplot as plt\n",
        "import requests\n",
        "from pathlib import Path\n",
        "\n",
        "def download_file(url, directory=\".\"):\n",
        "    Path(directory).mkdir(parents=True, exist_ok=True)\n",
        "    filename = url.split(\"/\")[-1]\n",
        "    filepath = Path(directory) / filename\n",
        "    if not filepath.exists():\n",
        "        response = requests.get(url, stream=True)\n",
        "        response.raise_for_status()\n",
        "        with open(filepath, 'wb') as file:\n",
        "            for chunk in response.iter_content(chunk_size=8192):\n",
        "                file.write(chunk)\n",
        "    return filepath\n",
        "\n",
        "image_url = \"https://storage.openvinotoolkit.org/repositories/openvino_notebooks/data/data/image/empty_road_mapillary.jpg\"\n",
        "image_filename = download_file(image_url, directory=\"data\")\n",
        "\n",
        "image = cv2.imread(str(image_filename))\n",
        "if image is None:\n",
        "    raise ValueError(f\"Image was not loaded properly from path: {image_filename}\")\n",
        "\n",
        "rgb_image = cv2.cvtColor(image, cv2.COLOR_BGR2RGB)\n",
        "image_h, image_w, _ = image.shape\n",
        "\n",
        "# Change this to match your model's input shape:\n",
        "N, C, H, W = (1, 3, 1024, 2048)\n",
        "\n",
        "# Resize the image\n",
        "resized_image = cv2.resize(image, (W, H))\n",
        "\n",
        "# Reshape the image for model input\n",
        "input_image = np.expand_dims(resized_image.transpose(2, 0, 1), 0)\n",
        "\n",
        "plt.imshow(rgb_image)\n",
        "plt.show()\n",
        "\n",
        "# ... [Your previous code for loading the image and other image processing operations]\n",
        "\n",
        "blurred_image = cv2.GaussianBlur(rgb_image, (15, 15), 0)\n",
        "edges_image = cv2.Canny(image, 100, 200)\n",
        "\n",
        "sepia_filter = np.array([[0.272, 0.534, 0.131],\n",
        "                         [0.349, 0.686, 0.168],\n",
        "                         [0.393, 0.769, 0.189]])\n",
        "sepia_image = cv2.transform(rgb_image, sepia_filter)\n",
        "\n",
        "fig, ax = plt.subplots(1, 4, figsize=(20, 5))\n",
        "\n",
        "ax[0].imshow(rgb_image)\n",
        "ax[0].set_title('Original Image')\n",
        "ax[0].axis('off')\n",
        "\n",
        "ax[1].imshow(blurred_image)\n",
        "ax[1].set_title('Gaussian Blur')\n",
        "ax[1].axis('off')\n",
        "\n",
        "ax[2].imshow(edges_image, cmap='gray')\n",
        "ax[2].set_title('Canny Edge Detection')\n",
        "ax[2].axis('off')\n",
        "\n",
        "ax[3].imshow(sepia_image)\n",
        "ax[3].set_title('Sepia Filter')\n",
        "ax[3].axis('off')\n",
        "\n",
        "plt.tight_layout()\n",
        "plt.show()\n"
      ],
      "metadata": {
        "id": "J4KyzU3WOShs"
      },
      "execution_count": null,
      "outputs": []
    }
  ]
}